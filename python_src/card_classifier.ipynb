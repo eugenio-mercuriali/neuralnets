{
 "cells": [
  {
   "cell_type": "code",
   "execution_count": 1,
   "id": "51e66130-3c5d-4a7e-bac9-fe64ef2f0eac",
   "metadata": {},
   "outputs": [
    {
     "ename": "ModuleNotFoundError",
     "evalue": "No module named 'timm'",
     "output_type": "error",
     "traceback": [
      "\u001b[0;31m---------------------------------------------------------------------------\u001b[0m",
      "\u001b[0;31mModuleNotFoundError\u001b[0m                       Traceback (most recent call last)",
      "Cell \u001b[0;32mIn[1], line 8\u001b[0m\n\u001b[1;32m      6\u001b[0m \u001b[38;5;28;01mimport\u001b[39;00m \u001b[38;5;21;01mtorchvision\u001b[39;00m\u001b[38;5;21;01m.\u001b[39;00m\u001b[38;5;21;01mtransforms\u001b[39;00m \u001b[38;5;28;01mas\u001b[39;00m \u001b[38;5;21;01mtransforms\u001b[39;00m\n\u001b[1;32m      7\u001b[0m \u001b[38;5;28;01mfrom\u001b[39;00m \u001b[38;5;21;01mtorchvision\u001b[39;00m\u001b[38;5;21;01m.\u001b[39;00m\u001b[38;5;21;01mdatasets\u001b[39;00m \u001b[38;5;28;01mimport\u001b[39;00m ImageFolder\n\u001b[0;32m----> 8\u001b[0m \u001b[38;5;28;01mimport\u001b[39;00m \u001b[38;5;21;01mtimm\u001b[39;00m\n\u001b[1;32m      9\u001b[0m \u001b[38;5;28;01mimport\u001b[39;00m \u001b[38;5;21;01mmatplotlib\u001b[39;00m\u001b[38;5;21;01m.\u001b[39;00m\u001b[38;5;21;01mpyplot\u001b[39;00m \u001b[38;5;28;01mas\u001b[39;00m \u001b[38;5;21;01mplt\u001b[39;00m\n\u001b[1;32m     10\u001b[0m \u001b[38;5;28;01mimport\u001b[39;00m \u001b[38;5;21;01mpandas\u001b[39;00m \u001b[38;5;28;01mas\u001b[39;00m \u001b[38;5;21;01mpd\u001b[39;00m\n",
      "\u001b[0;31mModuleNotFoundError\u001b[0m: No module named 'timm'"
     ]
    }
   ],
   "source": [
    "import torch\n",
    "import torch.nn as nn\n",
    "import torch.optim as optim\n",
    "from torch.utils.data import Dataset, DataLoader\n",
    "import torchvision\n",
    "import torchvision.transforms as transforms\n",
    "from torchvision.datasets import ImageFolder\n",
    "import timm\n",
    "import matplotlib.pyplot as plt\n",
    "import pandas as pd\n",
    "import numpy as np\n",
    "import sys\n",
    "from tqdm.notebook import tqdm"
   ]
  },
  {
   "cell_type": "markdown",
   "id": "cbc3f853-fad9-480a-b3e8-fcf5061ad8d9",
   "metadata": {},
   "source": [
    "We will tackle this problem in 3 parts:\n",
    "\n",
    "- Pytorch Dataset\n",
    "- Pytorch Model\n",
    "- Pytorch Training Loop\n",
    "\n",
    "Almost every pytorch model training pipeline meets this paradigm."
   ]
  },
  {
   "cell_type": "markdown",
   "id": "156f611c-20b1-412b-8116-5d7c894b6e2a",
   "metadata": {},
   "source": [
    "### Pytorch Dataset (and Dataloader)\n",
    "Would you learn how to bake a cake without first having the ingredients? No.\n",
    "\n",
    "The same thing can be said for training a pytorch model without first having the dataset setup correctly.\n",
    "\n",
    "This is why datasets are important:\n",
    "\n",
    "It's an organized way to structure how the data and labels are loaded into the model.\n",
    "We can then wrap the dataset in a dataloader and pytorch will handle batching the shuffling the data for us when training the model!"
   ]
  },
  {
   "cell_type": "code",
   "execution_count": null,
   "id": "b6c345a0-2bd4-4a46-ad99-ec92b0e0a5ee",
   "metadata": {},
   "outputs": [],
   "source": [
    "class PlayingCardDataset(Dataset):\n",
    "    def __init__(self, data_dir, transform=None):\n",
    "        self.data = ImageFolder(data_dir, transform=transform)\n",
    "    \n",
    "    def __len__(self):\n",
    "        return len(self.data)\n",
    "    \n",
    "    def __getitem__(self, idx):\n",
    "        return self.data[idx]\n",
    "    \n",
    "    @property\n",
    "    def classes(self):\n",
    "        return self.data.classes"
   ]
  },
  {
   "cell_type": "markdown",
   "id": "5d50f7c5-bfc9-4de1-9635-5c6254c12d7a",
   "metadata": {},
   "source": [
    "### Create Test Dataset"
   ]
  },
  {
   "cell_type": "code",
   "execution_count": null,
   "id": "798b519e-3282-40c9-b095-c2c0ca2cfbb4",
   "metadata": {},
   "outputs": [],
   "source": [
    "dataset = PlayingCardDataset(\n",
    "    data_dir='/kaggle/input/cards-image-datasetclassification/train'\n",
    ")"
   ]
  },
  {
   "cell_type": "code",
   "execution_count": 2,
   "id": "3e63ebf6-2ddb-42f8-928f-dcfaff6472db",
   "metadata": {},
   "outputs": [
    {
     "ename": "NameError",
     "evalue": "name 'dataset' is not defined",
     "output_type": "error",
     "traceback": [
      "\u001b[0;31m---------------------------------------------------------------------------\u001b[0m",
      "\u001b[0;31mNameError\u001b[0m                                 Traceback (most recent call last)",
      "Cell \u001b[0;32mIn[2], line 1\u001b[0m\n\u001b[0;32m----> 1\u001b[0m \u001b[38;5;28mlen\u001b[39m(\u001b[43mdataset\u001b[49m)\n",
      "\u001b[0;31mNameError\u001b[0m: name 'dataset' is not defined"
     ]
    }
   ],
   "source": [
    "len(dataset)"
   ]
  },
  {
   "cell_type": "code",
   "execution_count": null,
   "id": "d4dda672-f408-4c4f-a695-e8fef5bb8009",
   "metadata": {},
   "outputs": [],
   "source": [
    "image, label = dataset[6000]\n",
    "print(label)\n",
    "image"
   ]
  },
  {
   "cell_type": "code",
   "execution_count": null,
   "id": "2ccd7200-3134-4342-b081-b7d31ce3fb94",
   "metadata": {},
   "outputs": [],
   "source": [
    "# Get a dictionary associating target values with folder names\n",
    "data_dir = '/kaggle/input/cards-image-datasetclassification/train'\n",
    "target_to_class = {v: k for k, v in ImageFolder(data_dir).class_to_idx.items()}\n",
    "print(target_to_class)"
   ]
  },
  {
   "cell_type": "code",
   "execution_count": null,
   "id": "d63e2b08-bb23-4d0a-b44b-3c04405ba1af",
   "metadata": {},
   "outputs": [],
   "source": [
    "transform = transforms.Compose([\n",
    "    transforms.Resize((128, 128)),\n",
    "    transforms.ToTensor(),\n",
    "])\n",
    "\n",
    "data_dir = '/kaggle/input/cards-image-datasetclassification/train'\n",
    "dataset = PlayingCardDataset(data_dir, transform)"
   ]
  },
  {
   "cell_type": "code",
   "execution_count": null,
   "id": "3a447396-f88a-4b80-a8c8-da14c46b0778",
   "metadata": {},
   "outputs": [],
   "source": [
    "image, label = dataset[100]\n",
    "image.shape"
   ]
  },
  {
   "cell_type": "code",
   "execution_count": null,
   "id": "c992b704-c41e-4998-acea-80cb984c3440",
   "metadata": {},
   "outputs": [],
   "source": [
    "# iterate over dataset\n",
    "for image, label in dataset:\n",
    "    break"
   ]
  },
  {
   "cell_type": "markdown",
   "id": "83de0231-69df-48e4-8e19-24c42103c273",
   "metadata": {},
   "source": [
    "### Dataloaders\n",
    "- Batching our dataset\n",
    "- It's faster to train the model in batches instead of one at a time."
   ]
  },
  {
   "cell_type": "code",
   "execution_count": null,
   "id": "20cee811-6b63-428d-8ec4-b01061ef546a",
   "metadata": {},
   "outputs": [],
   "source": [
    "dataloader = DataLoader(dataset, batch_size=32, shuffle=True)"
   ]
  },
  {
   "cell_type": "code",
   "execution_count": null,
   "id": "f2b569be-da3f-4ef9-a1a0-0208ccf80eae",
   "metadata": {},
   "outputs": [],
   "source": [
    "for images, labels in dataloader:\n",
    "    break"
   ]
  },
  {
   "cell_type": "code",
   "execution_count": null,
   "id": "07c78071-be76-4608-94d3-f656fdfb9898",
   "metadata": {},
   "outputs": [],
   "source": [
    "images.shape, labels.shape"
   ]
  },
  {
   "cell_type": "code",
   "execution_count": null,
   "id": "f447d1d6-3c12-47a5-8d95-cc315fb651b4",
   "metadata": {},
   "outputs": [],
   "source": [
    "labels"
   ]
  },
  {
   "cell_type": "markdown",
   "id": "61f4e3dc-90b0-4794-a93c-b544a9e219cf",
   "metadata": {},
   "source": [
    "### Pytorch Model\n",
    "Pytorch datasets have a structured way of organizing your data, pytorch models follow a similar paradigm.\n",
    "\n",
    "- We could create the model from scratch defining each layer.\n",
    "- However for tasks like image classification, many of the state of the art architectures are readily available and we can import them from packages like timm.\n",
    "- Understanding the pytorch model is all about understanding the shape the data is at each layer, and the main one we need to modify for a task is the final layer. Here we have 53 targets, so we will modify the last layer for this."
   ]
  },
  {
   "cell_type": "code",
   "execution_count": null,
   "id": "510b2cbc-b5f4-42d9-9aa7-561b0c5d2069",
   "metadata": {},
   "outputs": [],
   "source": [
    "class SimpleCardClassifer(nn.Module):\n",
    "    def __init__(self, num_classes=53):\n",
    "        super(SimpleCardClassifer, self).__init__()\n",
    "        # Where we define all the parts of the model\n",
    "        self.base_model = timm.create_model('efficientnet_b0', pretrained=True)\n",
    "        self.features = nn.Sequential(*list(self.base_model.children())[:-1])\n",
    "\n",
    "        enet_out_size = 1280\n",
    "        # Make a classifier\n",
    "        self.classifier = nn.Sequential(\n",
    "            nn.Flatten(),\n",
    "            nn.Linear(enet_out_size, num_classes)\n",
    "        )\n",
    "    \n",
    "    def forward(self, x):\n",
    "        # Connect these parts and return the output\n",
    "        x = self.features(x)\n",
    "        output = self.classifier(x)\n",
    "        return output"
   ]
  },
  {
   "cell_type": "code",
   "execution_count": null,
   "id": "6fed15bc-50c9-4250-b2df-67784b746556",
   "metadata": {},
   "outputs": [],
   "source": [
    "model = SimpleCardClassifer(num_classes=53)\n",
    "print(str(model)[:500])"
   ]
  },
  {
   "cell_type": "code",
   "execution_count": null,
   "id": "a69785fc-1f98-4acd-991b-401dd09501ad",
   "metadata": {},
   "outputs": [],
   "source": [
    "example_out = model(images)\n",
    "example_out.shape # [batch_size, num_classes]"
   ]
  },
  {
   "cell_type": "markdown",
   "id": "d236898d-5714-40b2-9e33-7e8483d4a85f",
   "metadata": {},
   "source": [
    "### The training loop\n",
    "- Now that we understand the general paradigm of pytorch datasets and models, we need to create the process of training this model.\n",
    "- Some things to consider: We want to validate our model on data it has not been trained on, so usually we split our data into a train and validate datasets (I have whole videos on this). This is easy because we can just create two datasets using our existing class.\n",
    "    - Terms:\n",
    "        - Epoch: One run through the entire training dataset.\n",
    "        - Step: One batch of data as defined in our dataloader\n",
    "- This loop is one you will become familiar with when training models, you load in data to the model in batches - then calculate the loss and perform backpropagation. There are packages that package this for you, but it's good to have at least written it once to understand how it works.\n",
    "- Two things to select:\n",
    "    - optimizer, adam is the best place to start for most tasks.\n",
    "    - loss function: What the model will optimize for."
   ]
  },
  {
   "cell_type": "code",
   "execution_count": null,
   "id": "7d700d43-8415-48ed-b734-191c5dfb8b0c",
   "metadata": {},
   "outputs": [],
   "source": [
    "# Loss function\n",
    "criterion = nn.CrossEntropyLoss()\n",
    "# Optimizer\n",
    "optimizer = optim.Adam(model.parameters(), lr=0.001)"
   ]
  },
  {
   "cell_type": "code",
   "execution_count": null,
   "id": "f7494c3e-35b2-4db0-8384-e777de5365d5",
   "metadata": {},
   "outputs": [],
   "source": [
    "criterion(example_out, labels)\n",
    "print(example_out.shape, labels.shape)"
   ]
  },
  {
   "cell_type": "code",
   "execution_count": null,
   "id": "adecfaa8-4476-4cae-9d0d-743a4a0fa85d",
   "metadata": {},
   "outputs": [],
   "source": [
    "transform = transforms.Compose([\n",
    "    transforms.Resize((128, 128)),\n",
    "    transforms.ToTensor(),\n",
    "])\n",
    "\n",
    "train_folder = '../input/cards-image-datasetclassification/train/'\n",
    "valid_folder = '../input/cards-image-datasetclassification/valid/'\n",
    "test_folder = '../input/cards-image-datasetclassification/test/'\n",
    "\n",
    "train_dataset = PlayingCardDataset(train_folder, transform=transform)\n",
    "val_dataset = PlayingCardDataset(valid_folder, transform=transform)\n",
    "test_dataset = PlayingCardDataset(test_folder, transform=transform)\n",
    "\n",
    "train_loader = DataLoader(train_dataset, batch_size=32, shuffle=True)\n",
    "val_loader = DataLoader(val_dataset, batch_size=32, shuffle=False)\n",
    "test_loader = DataLoader(val_dataset, batch_size=32, shuffle=False)"
   ]
  },
  {
   "cell_type": "code",
   "execution_count": null,
   "id": "f3525614-654c-44db-a665-6ec2c9530f60",
   "metadata": {},
   "outputs": [],
   "source": [
    "# Simple training loop\n",
    "num_epochs = 5\n",
    "train_losses, val_losses = [], []\n",
    "\n",
    "device = torch.device(\"cuda:0\" if torch.cuda.is_available() else \"cpu\")\n",
    "\n",
    "model = SimpleCardClassifer(num_classes=53)\n",
    "model.to(device)\n",
    "\n",
    "criterion = nn.CrossEntropyLoss()\n",
    "optimizer = optim.Adam(model.parameters(), lr=0.001)\n",
    "\n",
    "for epoch in range(num_epochs):\n",
    "    # Training phase\n",
    "    model.train()\n",
    "    running_loss = 0.0\n",
    "    for images, labels in tqdm(train_loader, desc='Training loop'):\n",
    "        # Move inputs and labels to the device\n",
    "        images, labels = images.to(device), labels.to(device)\n",
    "        \n",
    "        optimizer.zero_grad()\n",
    "        outputs = model(images)\n",
    "        loss = criterion(outputs, labels)\n",
    "        loss.backward()\n",
    "        optimizer.step()\n",
    "        running_loss += loss.item() * labels.size(0)\n",
    "    train_loss = running_loss / len(train_loader.dataset)\n",
    "    train_losses.append(train_loss)\n",
    "    \n",
    "    # Validation phase\n",
    "    model.eval()\n",
    "    running_loss = 0.0\n",
    "    with torch.no_grad():\n",
    "        for images, labels in tqdm(val_loader, desc='Validation loop'):\n",
    "            # Move inputs and labels to the device\n",
    "            images, labels = images.to(device), labels.to(device)\n",
    "         \n",
    "            outputs = model(images)\n",
    "            loss = criterion(outputs, labels)\n",
    "            running_loss += loss.item() * labels.size(0)\n",
    "    val_loss = running_loss / len(val_loader.dataset)\n",
    "    val_losses.append(val_loss)\n",
    "    print(f\"Epoch {epoch+1}/{num_epochs} - Train loss: {train_loss}, Validation loss: {val_loss}\")"
   ]
  },
  {
   "cell_type": "markdown",
   "id": "a1ca4cd1-f89e-47f7-9fa6-b30515f58f35",
   "metadata": {},
   "source": [
    "### Visualize Losses\n",
    "\n",
    "We can plot our training and validation loss through this training, usually we do this at the end of each epoch. We see that our accuracy on the validation dataset is x!\n",
    "There are a LOT more things to learn about that can drastically improve how to train a model which I will cover in future videos, but this should give you a good start!"
   ]
  },
  {
   "cell_type": "code",
   "execution_count": null,
   "id": "03c56e5d-0720-49a5-a421-255a69611d63",
   "metadata": {},
   "outputs": [],
   "source": [
    "plt.plot(train_losses, label='Training loss')\n",
    "plt.plot(val_losses, label='Validation loss')\n",
    "plt.legend()\n",
    "plt.title(\"Loss over epochs\")\n",
    "plt.show()"
   ]
  },
  {
   "cell_type": "markdown",
   "id": "feffb755-91b8-4657-8ac8-b0e8e898f509",
   "metadata": {},
   "source": [
    "### Evaluation"
   ]
  },
  {
   "cell_type": "code",
   "execution_count": null,
   "id": "2178418b-e36d-4390-b992-620ff872d437",
   "metadata": {},
   "outputs": [],
   "source": [
    "import torch\n",
    "import torchvision.transforms as transforms\n",
    "from PIL import Image\n",
    "import matplotlib.pyplot as plt\n",
    "import numpy as np\n",
    "\n",
    "# Load and preprocess the image\n",
    "def preprocess_image(image_path, transform):\n",
    "    image = Image.open(image_path).convert(\"RGB\")\n",
    "    return image, transform(image).unsqueeze(0)\n",
    "\n",
    "# Predict using the model\n",
    "def predict(model, image_tensor, device):\n",
    "    model.eval()\n",
    "    with torch.no_grad():\n",
    "        image_tensor = image_tensor.to(device)\n",
    "        outputs = model(image_tensor)\n",
    "        probabilities = torch.nn.functional.softmax(outputs, dim=1)\n",
    "    return probabilities.cpu().numpy().flatten()\n",
    "\n",
    "# Visualization\n",
    "def visualize_predictions(original_image, probabilities, class_names):\n",
    "    fig, axarr = plt.subplots(1, 2, figsize=(14, 7))\n",
    "    \n",
    "    # Display image\n",
    "    axarr[0].imshow(original_image)\n",
    "    axarr[0].axis(\"off\")\n",
    "    \n",
    "    # Display predictions\n",
    "    axarr[1].barh(class_names, probabilities)\n",
    "    axarr[1].set_xlabel(\"Probability\")\n",
    "    axarr[1].set_title(\"Class Predictions\")\n",
    "    axarr[1].set_xlim(0, 1)\n",
    "\n",
    "    plt.tight_layout()\n",
    "    plt.show()\n",
    "\n",
    "# Example usage\n",
    "test_image = \"/kaggle/input/cards-image-datasetclassification/test/five of diamonds/2.jpg\"\n",
    "transform = transforms.Compose([\n",
    "    transforms.Resize((128, 128)),\n",
    "    transforms.ToTensor()\n",
    "])\n",
    "\n",
    "original_image, image_tensor = preprocess_image(test_image, transform)\n",
    "probabilities = predict(model, image_tensor, device)\n",
    "\n",
    "# Assuming dataset.classes gives the class names\n",
    "class_names = dataset.classes \n",
    "visualize_predictions(original_image, probabilities, class_names)"
   ]
  },
  {
   "cell_type": "code",
   "execution_count": null,
   "id": "8aa21994-92a4-4c70-88d5-63dbeb6c4c69",
   "metadata": {},
   "outputs": [],
   "source": [
    "from glob import glob\n",
    "test_images = glob('../input/cards-image-datasetclassification/test/*/*')\n",
    "test_examples = np.random.choice(test_images, 10)\n",
    "\n",
    "for example in test_examples:\n",
    "    original_image, image_tensor = preprocess_image(example, transform)\n",
    "    probabilities = predict(model, image_tensor, device)\n",
    "\n",
    "    # Assuming dataset.classes gives the class names\n",
    "    class_names = dataset.classes \n",
    "    visualize_predictions(original_image, probabilities, class_names)"
   ]
  },
  {
   "cell_type": "code",
   "execution_count": null,
   "id": "293f8e1d-3af6-4383-91a0-ab3c9918674d",
   "metadata": {},
   "outputs": [],
   "source": []
  },
  {
   "cell_type": "code",
   "execution_count": null,
   "id": "e5d597ff-e788-4bea-8390-602a531161ea",
   "metadata": {},
   "outputs": [],
   "source": []
  },
  {
   "cell_type": "code",
   "execution_count": null,
   "id": "a7a0c9c2-4000-43cb-9d6b-99642bc8ff65",
   "metadata": {},
   "outputs": [],
   "source": []
  },
  {
   "cell_type": "code",
   "execution_count": null,
   "id": "5b2dd476-d455-427b-8bea-246d4b4700a3",
   "metadata": {},
   "outputs": [],
   "source": []
  }
 ],
 "metadata": {
  "kernelspec": {
   "display_name": "python3.9_env",
   "language": "python",
   "name": "python3.9_env"
  },
  "language_info": {
   "codemirror_mode": {
    "name": "ipython",
    "version": 3
   },
   "file_extension": ".py",
   "mimetype": "text/x-python",
   "name": "python",
   "nbconvert_exporter": "python",
   "pygments_lexer": "ipython3",
   "version": "3.9.0"
  }
 },
 "nbformat": 4,
 "nbformat_minor": 5
}
